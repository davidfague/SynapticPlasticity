{
  "cells": [
    {
      "cell_type": "markdown",
      "metadata": {
        "id": "view-in-github",
        "colab_type": "text"
      },
      "source": [
        "<a href=\"https://colab.research.google.com/github/davidfague/SynapticPlasticity/blob/main/ShortTermSynapticPlasticity.ipynb\" target=\"_parent\"><img src=\"https://colab.research.google.com/assets/colab-badge.svg\" alt=\"Open In Colab\"/></a>"
      ]
    },
    {
      "cell_type": "markdown",
      "metadata": {
        "id": "jUawoKfaYwfc"
      },
      "source": [
        "# Short-Term Synaptic Plasticity\n",
        "\n",
        "*Written by Tyler Banks for the Neural Engineering Lab at the University of Missouri*\n",
        "\n",
        "## Intro\n",
        "Short-term synaptic plasticity (or short-term plasticity [STP]) is a phenomenon in which synaptic efficacy changes over time in response to previous presynaptic occurances.\n",
        "\n",
        "Two types of STP have been observed:\n",
        "\n",
        "* **Short-Term Depression** (STD)\n",
        "* **Short-Term Facilitation** (STF)\n",
        "\n",
        "Short-Term Depression is caused by depletion of neurotransmitters at the axon terminal while Short-Term Facilitation is caused by calcium influx into the axon terminal after a spike. This increases the release probablility of neurotransmitters.\n",
        "\n",
        "STP typically occurs on the order of hundereds to thousands of milliseconds and is temporary. Without activity the synapse will quickly return to basline levels.\n",
        "\n",
        "STP may serve as a substrate for processing temporal information. The response of a post-synaptic neuron depends on the history of the presynaptic activity. This information could theoretically be extracted for use. STP can enrich computational studies, allowing networks to produce capabilities difficult to be seen using static connections.\n",
        "\n",
        "## Simulating STP\n",
        "\n",
        "We'll begin our simulations with a single Hodgkin-Huxley neuron connected via standard Exp2Syn synapse. There are no short-term plasticity elements involved yet. The neuron is subjected to 20 Hz of uniform input for 500 ms.\n"
      ]
    },
    {
      "cell_type": "code",
      "source": [
        "!pip install neuron\n",
        "!pip install bmtk"
      ],
      "metadata": {
        "id": "5wcJRwosZFv4",
        "outputId": "ba7d815d-facd-4c29-a7bd-c26b8d601eb1",
        "colab": {
          "base_uri": "https://localhost:8080/"
        }
      },
      "execution_count": 22,
      "outputs": [
        {
          "output_type": "stream",
          "name": "stdout",
          "text": [
            "Looking in indexes: https://pypi.org/simple, https://us-python.pkg.dev/colab-wheels/public/simple/\n",
            "Requirement already satisfied: neuron in /usr/local/lib/python3.8/dist-packages (8.2.1)\n",
            "Requirement already satisfied: numpy>=1.9.3 in /usr/local/lib/python3.8/dist-packages (from neuron) (1.21.6)\n",
            "Looking in indexes: https://pypi.org/simple, https://us-python.pkg.dev/colab-wheels/public/simple/\n",
            "Collecting bmtk\n",
            "  Downloading bmtk-1.0.7-py2.py3-none-any.whl (743 kB)\n",
            "\u001b[K     |████████████████████████████████| 743 kB 30.1 MB/s \n",
            "\u001b[?25hRequirement already satisfied: pandas in /usr/local/lib/python3.8/dist-packages (from bmtk) (1.3.5)\n",
            "Requirement already satisfied: scipy in /usr/local/lib/python3.8/dist-packages (from bmtk) (1.7.3)\n",
            "Requirement already satisfied: six in /usr/local/lib/python3.8/dist-packages (from bmtk) (1.15.0)\n",
            "Requirement already satisfied: scikit-image in /usr/local/lib/python3.8/dist-packages (from bmtk) (0.18.3)\n",
            "Requirement already satisfied: sympy in /usr/local/lib/python3.8/dist-packages (from bmtk) (1.7.1)\n",
            "Requirement already satisfied: jsonschema in /usr/local/lib/python3.8/dist-packages (from bmtk) (4.3.3)\n",
            "Requirement already satisfied: matplotlib in /usr/local/lib/python3.8/dist-packages (from bmtk) (3.2.2)\n",
            "Requirement already satisfied: h5py in /usr/local/lib/python3.8/dist-packages (from bmtk) (3.1.0)\n",
            "Requirement already satisfied: numpy in /usr/local/lib/python3.8/dist-packages (from bmtk) (1.21.6)\n",
            "Requirement already satisfied: importlib-resources>=1.4.0 in /usr/local/lib/python3.8/dist-packages (from jsonschema->bmtk) (5.10.0)\n",
            "Requirement already satisfied: pyrsistent!=0.17.0,!=0.17.1,!=0.17.2,>=0.14.0 in /usr/local/lib/python3.8/dist-packages (from jsonschema->bmtk) (0.19.2)\n",
            "Requirement already satisfied: attrs>=17.4.0 in /usr/local/lib/python3.8/dist-packages (from jsonschema->bmtk) (22.1.0)\n",
            "Requirement already satisfied: zipp>=3.1.0 in /usr/local/lib/python3.8/dist-packages (from importlib-resources>=1.4.0->jsonschema->bmtk) (3.10.0)\n",
            "Requirement already satisfied: pyparsing!=2.0.4,!=2.1.2,!=2.1.6,>=2.0.1 in /usr/local/lib/python3.8/dist-packages (from matplotlib->bmtk) (3.0.9)\n",
            "Requirement already satisfied: python-dateutil>=2.1 in /usr/local/lib/python3.8/dist-packages (from matplotlib->bmtk) (2.8.2)\n",
            "Requirement already satisfied: kiwisolver>=1.0.1 in /usr/local/lib/python3.8/dist-packages (from matplotlib->bmtk) (1.4.4)\n",
            "Requirement already satisfied: cycler>=0.10 in /usr/local/lib/python3.8/dist-packages (from matplotlib->bmtk) (0.11.0)\n",
            "Requirement already satisfied: pytz>=2017.3 in /usr/local/lib/python3.8/dist-packages (from pandas->bmtk) (2022.6)\n",
            "Requirement already satisfied: imageio>=2.3.0 in /usr/local/lib/python3.8/dist-packages (from scikit-image->bmtk) (2.9.0)\n",
            "Requirement already satisfied: PyWavelets>=1.1.1 in /usr/local/lib/python3.8/dist-packages (from scikit-image->bmtk) (1.3.0)\n",
            "Requirement already satisfied: pillow!=7.1.0,!=7.1.1,>=4.3.0 in /usr/local/lib/python3.8/dist-packages (from scikit-image->bmtk) (7.1.2)\n",
            "Requirement already satisfied: tifffile>=2019.7.26 in /usr/local/lib/python3.8/dist-packages (from scikit-image->bmtk) (2021.11.2)\n",
            "Requirement already satisfied: networkx>=2.0 in /usr/local/lib/python3.8/dist-packages (from scikit-image->bmtk) (2.6.3)\n",
            "Requirement already satisfied: mpmath>=0.19 in /usr/local/lib/python3.8/dist-packages (from sympy->bmtk) (1.2.1)\n",
            "Installing collected packages: bmtk\n",
            "Successfully installed bmtk-1.0.7\n"
          ]
        }
      ]
    },
    {
      "cell_type": "code",
      "source": [
        "!git clone https://github.com/davidfague/SynapticPlasticity.git\n",
        "%cd SynapticPlasticity"
      ],
      "metadata": {
        "id": "c_FVwcE1Y0w5",
        "outputId": "8ac7b225-70ab-4d71-d2f8-8ad129474d71",
        "colab": {
          "base_uri": "https://localhost:8080/"
        }
      },
      "execution_count": 2,
      "outputs": [
        {
          "output_type": "stream",
          "name": "stdout",
          "text": [
            "fatal: destination path 'SynapticPlasticity' already exists and is not an empty directory.\n",
            "/content/SynapticPlasticity\n"
          ]
        }
      ]
    },
    {
      "cell_type": "code",
      "source": [
        "!nrnivmodl bmtk_model/biophys_components/mechanisms/modfiles"
      ],
      "metadata": {
        "id": "wWgpp4lEb1_i",
        "outputId": "1c33c1a6-edf0-48d7-eadb-bda2bf7d0cc3",
        "colab": {
          "base_uri": "https://localhost:8080/"
        }
      },
      "execution_count": 13,
      "outputs": [
        {
          "output_type": "stream",
          "name": "stdout",
          "text": [
            "/content/SynapticPlasticity\n",
            "Mod files: \"bmtk_model/biophys_components/mechanisms/modfiles/bmtk_model/biophys_components/mechanisms/modfiles/exp2syn_stsp.mod\" \"bmtk_model/biophys_components/mechanisms/modfiles/bmtk_model/biophys_components/mechanisms/modfiles/izh.mod\" \"bmtk_model/biophys_components/mechanisms/modfiles/bmtk_model/biophys_components/mechanisms/modfiles/kdr.mod\" \"bmtk_model/biophys_components/mechanisms/modfiles/bmtk_model/biophys_components/mechanisms/modfiles/leak.mod\" \"bmtk_model/biophys_components/mechanisms/modfiles/bmtk_model/biophys_components/mechanisms/modfiles/na.mod\" \"bmtk_model/biophys_components/mechanisms/modfiles/bmtk_model/biophys_components/mechanisms/modfiles/pyr2pyr.mod\" \"bmtk_model/biophys_components/mechanisms/modfiles/bmtk_model/biophys_components/mechanisms/modfiles/synapse_inter2pyr.mod\" \"bmtk_model/biophys_components/mechanisms/modfiles/bmtk_model/biophys_components/mechanisms/modfiles/vecevent.mod\"\n",
            "\n",
            " -> \u001b[32mCompiling\u001b[0m mod_func.cpp\n",
            " -> \u001b[32mNMODL\u001b[0m ../bmtk_model/biophys_components/mechanisms/modfiles/izh.mod\n",
            " -> \u001b[32mNMODL\u001b[0m ../bmtk_model/biophys_components/mechanisms/modfiles/exp2syn_stsp.mod\n",
            " -> \u001b[32mNMODL\u001b[0m ../bmtk_model/biophys_components/mechanisms/modfiles/kdr.mod\n",
            "Translating exp2syn_stsp.mod into /content/SynapticPlasticity/x86_64/exp2syn_stsp.c\n",
            "Translating izh.mod into /content/SynapticPlasticity/x86_64/izh.c\n",
            "Translating kdr.mod into /content/SynapticPlasticity/x86_64/kdr.c\n",
            "Thread Safe\n",
            "Thread Safe\n",
            "Warning: v undefined. (declared within VERBATIM?)\n",
            "Thread Safe\n",
            " -> \u001b[32mNMODL\u001b[0m ../bmtk_model/biophys_components/mechanisms/modfiles/na.mod\n",
            " -> \u001b[32mNMODL\u001b[0m ../bmtk_model/biophys_components/mechanisms/modfiles/leak.mod\n",
            " -> \u001b[32mNMODL\u001b[0m ../bmtk_model/biophys_components/mechanisms/modfiles/pyr2pyr.mod\n",
            "Translating leak.mod into /content/SynapticPlasticity/x86_64/leak.c\n",
            "Translating na.mod into /content/SynapticPlasticity/x86_64/na.c\n",
            "Thread Safe\n",
            "Thread Safe\n",
            " -> \u001b[32mNMODL\u001b[0m ../bmtk_model/biophys_components/mechanisms/modfiles/synapse_inter2pyr.mod\n",
            "Translating pyr2pyr.mod into /content/SynapticPlasticity/x86_64/pyr2pyr.c\n",
            "Thread Safe\n",
            " -> \u001b[32mNMODL\u001b[0m ../bmtk_model/biophys_components/mechanisms/modfiles/vecevent.mod\n",
            " -> \u001b[32mCompiling\u001b[0m exp2syn_stsp.c\n",
            "Translating synapse_inter2pyr.mod into /content/SynapticPlasticity/x86_64/synapse_inter2pyr.c\n",
            "Warning: dt undefined. (declared within VERBATIM?)\n",
            "Thread Safe\n",
            "Translating vecevent.mod into /content/SynapticPlasticity/x86_64/vecevent.c\n",
            "Notice: VERBATIM blocks are not thread safe\n",
            " -> \u001b[32mCompiling\u001b[0m izh.c\n",
            " -> \u001b[32mCompiling\u001b[0m kdr.c\n",
            " -> \u001b[32mCompiling\u001b[0m leak.c\n",
            " -> \u001b[32mCompiling\u001b[0m na.c\n",
            " -> \u001b[32mCompiling\u001b[0m pyr2pyr.c\n",
            " -> \u001b[32mCompiling\u001b[0m synapse_inter2pyr.c\n",
            " -> \u001b[32mCompiling\u001b[0m vecevent.c\n",
            " => \u001b[32mLINKING\u001b[0m shared library ./libnrnmech.so\n",
            "Successfully created x86_64/special\n"
          ]
        }
      ]
    },
    {
      "cell_type": "code",
      "execution_count": 31,
      "metadata": {
        "id": "SBIvp5SFYwfe",
        "outputId": "c9d6c52c-a9b9-442b-b81d-7975403f4e40",
        "colab": {
          "base_uri": "https://localhost:8080/",
          "height": 340
        }
      },
      "outputs": [
        {
          "output_type": "error",
          "ename": "AttributeError",
          "evalue": "ignored",
          "traceback": [
            "\u001b[0;31m---------------------------------------------------------------------------\u001b[0m",
            "\u001b[0;31mAttributeError\u001b[0m                            Traceback (most recent call last)",
            "\u001b[0;32m<ipython-input-31-7054f12bcfcf>\u001b[0m in \u001b[0;36m<module>\u001b[0;34m\u001b[0m\n\u001b[1;32m      3\u001b[0m \u001b[0;31m# import bmtk_model\u001b[0m\u001b[0;34m\u001b[0m\u001b[0;34m\u001b[0m\u001b[0;34m\u001b[0m\u001b[0m\n\u001b[1;32m      4\u001b[0m \u001b[0;32mfrom\u001b[0m \u001b[0mbmtk_model\u001b[0m \u001b[0;32mimport\u001b[0m \u001b[0msynapses\u001b[0m\u001b[0;34m\u001b[0m\u001b[0;34m\u001b[0m\u001b[0m\n\u001b[0;32m----> 5\u001b[0;31m \u001b[0msim\u001b[0m\u001b[0;34m.\u001b[0m\u001b[0mplot_hh_stsp\u001b[0m\u001b[0;34m(\u001b[0m\u001b[0msyn_d1\u001b[0m\u001b[0;34m=\u001b[0m\u001b[0;36m1\u001b[0m\u001b[0;34m,\u001b[0m\u001b[0msyn_d2\u001b[0m\u001b[0;34m=\u001b[0m\u001b[0;36m1\u001b[0m\u001b[0;34m,\u001b[0m\u001b[0msyn_f\u001b[0m\u001b[0;34m=\u001b[0m\u001b[0;36m1\u001b[0m\u001b[0;34m)\u001b[0m\u001b[0;34m\u001b[0m\u001b[0;34m\u001b[0m\u001b[0m\n\u001b[0m",
            "\u001b[0;32m/content/SynapticPlasticity/sim.py\u001b[0m in \u001b[0;36mplot_hh_stsp\u001b[0;34m(syn_tauD1, syn_d1, syn_tauD2, syn_d2, syn_tauF, syn_f, stim1_start, stim1_frequency, stim1_duration)\u001b[0m\n\u001b[1;32m     33\u001b[0m     \u001b[0msoma\u001b[0m \u001b[0;34m=\u001b[0m \u001b[0mh\u001b[0m\u001b[0;34m.\u001b[0m\u001b[0mSection\u001b[0m\u001b[0;34m(\u001b[0m\u001b[0mname\u001b[0m\u001b[0;34m=\u001b[0m\u001b[0;34m'soma'\u001b[0m\u001b[0;34m)\u001b[0m\u001b[0;34m\u001b[0m\u001b[0;34m\u001b[0m\u001b[0m\n\u001b[1;32m     34\u001b[0m     \u001b[0msoma\u001b[0m\u001b[0;34m.\u001b[0m\u001b[0minsert\u001b[0m\u001b[0;34m(\u001b[0m\u001b[0;34m'hh'\u001b[0m\u001b[0;34m)\u001b[0m\u001b[0;34m\u001b[0m\u001b[0;34m\u001b[0m\u001b[0m\n\u001b[0;32m---> 35\u001b[0;31m     \u001b[0msyn\u001b[0m \u001b[0;34m=\u001b[0m \u001b[0mh\u001b[0m\u001b[0;34m.\u001b[0m\u001b[0mExp2Syn1_STSP\u001b[0m\u001b[0;34m(\u001b[0m\u001b[0;36m0.5\u001b[0m\u001b[0;34m,\u001b[0m \u001b[0msec\u001b[0m\u001b[0;34m=\u001b[0m\u001b[0msoma\u001b[0m\u001b[0;34m)\u001b[0m\u001b[0;34m\u001b[0m\u001b[0;34m\u001b[0m\u001b[0m\n\u001b[0m\u001b[1;32m     36\u001b[0m     \u001b[0msyn\u001b[0m\u001b[0;34m.\u001b[0m\u001b[0me\u001b[0m \u001b[0;34m=\u001b[0m \u001b[0msyn_reversal\u001b[0m\u001b[0;34m\u001b[0m\u001b[0;34m\u001b[0m\u001b[0m\n\u001b[1;32m     37\u001b[0m     \u001b[0msyn\u001b[0m\u001b[0;34m.\u001b[0m\u001b[0mtauD1\u001b[0m \u001b[0;34m=\u001b[0m \u001b[0msyn_tauD1\u001b[0m\u001b[0;34m\u001b[0m\u001b[0;34m\u001b[0m\u001b[0m\n",
            "\u001b[0;31mAttributeError\u001b[0m: 'hoc.HocObject' object has no attribute 'Exp2Syn1_STSP'"
          ]
        }
      ],
      "source": [
        "%matplotlib inline\n",
        "import sim\n",
        "sim.plot_hh_stsp(syn_d1=1,syn_d2=1,syn_f=1)"
      ]
    },
    {
      "cell_type": "markdown",
      "metadata": {
        "id": "eupUOxe6Ywff"
      },
      "source": [
        "### STP Factor\n",
        "\n",
        "For the most part we can leave our current Exp2Syn synapse alone. We'll need to compute an impact factor (facfactor) that will be multiplied by current (i) output equation:\n",
        "\n",
        "```\n",
        "i = g_syn*(voltage - synapse_reversal)*facfactor\n",
        "```\n",
        "\n",
        "Intuitively we realize that both depression and facilitation are dependent on the previous spike time as well as the current state of the system. The above facfactor will need to be a value between 0 and infinity, where anything less than 1 will result in depression and anything above will cause synaptic facilitation. Our solution is based on [Varela et al. (1997)](http://dx.doi.org/10.1523/JNEUROSCI.17-20-07926.1997) and takes the form:\n",
        "\n",
        "\\begin{align}\n",
        "F_1 & = 1 + (F_1 - 1) * e^{(t_0)/\\tau_F} \\\\\n",
        "D_1 & = 1 - (1 - D_1) * e^{(t_0)/\\tau_D} \\\\\n",
        "f & = F_1 * D_1\n",
        "\\end{align}\n",
        "\n",
        "Where ```t0``` is the time since the last spike\n",
        "\n",
        "We can then re-write this as pseudocode for our implementation:\n",
        "\n",
        "```\n",
        "Facilitation  = 1 + (Facilitation-1)* exp(-(current_time - last_synapse_time)/tauFacilitation)\n",
        "Depression = 1 - (1-Depression)*exp(-(current_time - last_synapse_time)/tauDepression)\n",
        "\n",
        "facfactor = Facilitation * Depression\n",
        "```\n",
        "\n",
        "Initially, Facilitation and Depression are set to 1 and 0 respectively, resulting in no effect on synaptic conductance.\n",
        "\n",
        "After the facfactor has been computed we can complete the system by multiplying each Facilitation and Depression variable by an impact factor ```f``` and ```d```. These will determine the strength/effect on the next synapse.\n",
        "\n",
        "```\n",
        "Facilitation = Facilitation * f\n",
        "Depression = Depression * d\n",
        "```\n",
        "\n",
        "Facilitation or Depression can then be bound to an upper value through the following statement\n",
        "\n",
        "```\n",
        "if(Facilitation  > 30){\n",
        "    F = 30\n",
        "  }\n",
        "```\n",
        "\n",
        "Our completed model can be seen below. Here, there are two depression factors (D1 and D2), one is a slow depression and the other is fast acting but more powerful.\n"
      ]
    },
    {
      "cell_type": "code",
      "execution_count": null,
      "metadata": {
        "id": "yEyL5FAaYwfg"
      },
      "outputs": [],
      "source": [
        "%matplotlib inline\n",
        "import sim\n",
        "sim.plot_hh_stsp()"
      ]
    },
    {
      "cell_type": "markdown",
      "metadata": {
        "id": "RHUKONUHYwfg"
      },
      "source": [
        "## Interactive Example\n",
        "\n",
        "To experiment with the effects of STP, run the following code and modify the widget sliders below. See how changing the depression and facilitation factors and their associated tau impact the cell's membrane potential.\n"
      ]
    },
    {
      "cell_type": "code",
      "execution_count": null,
      "metadata": {
        "id": "kNEyL-ySYwfg"
      },
      "outputs": [],
      "source": [
        "%matplotlib inline\n",
        "import sim\n",
        "from ipywidgets import interactive\n",
        "\n",
        "interactive(sim.plot_hh_stsp, \n",
        "                 syn_tauD1=(1,1000,10), syn_d1=(0,1,.05), \n",
        "                 syn_tauD2=(1,1000,10), syn_d2=(0,1,.05), \n",
        "                 syn_tauF=(1,1000),syn_f=(1,2,.05),\n",
        "                 stim1_start= (0,1000,50), stim1_frequency=(1,50,1), stim1_duration=(0,1000,50))"
      ]
    },
    {
      "cell_type": "markdown",
      "metadata": {
        "id": "9gKXZWwgYwfg"
      },
      "source": [
        "## BMTK Model\n",
        "\n",
        "This implementation has also been modeled using BMTK, see the ```bmtk_model``` folder for more."
      ]
    },
    {
      "cell_type": "code",
      "execution_count": null,
      "metadata": {
        "id": "YiyRq-YBYwfg"
      },
      "outputs": [],
      "source": []
    }
  ],
  "metadata": {
    "kernelspec": {
      "display_name": "Python 3",
      "language": "python",
      "name": "python3"
    },
    "language_info": {
      "codemirror_mode": {
        "name": "ipython",
        "version": 3
      },
      "file_extension": ".py",
      "mimetype": "text/x-python",
      "name": "python",
      "nbconvert_exporter": "python",
      "pygments_lexer": "ipython3",
      "version": "3.6.8"
    },
    "colab": {
      "provenance": [],
      "include_colab_link": true
    }
  },
  "nbformat": 4,
  "nbformat_minor": 0
}