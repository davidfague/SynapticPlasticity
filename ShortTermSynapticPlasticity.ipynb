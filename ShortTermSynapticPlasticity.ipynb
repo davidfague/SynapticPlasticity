{
  "cells": [
    {
      "cell_type": "markdown",
      "metadata": {
        "id": "jUawoKfaYwfc"
      },
      "source": [
        "# Short-Term Synaptic Plasticity\n",
        "\n",
        "*Written by Tyler Banks for the Neural Engineering Lab at the University of Missouri*\n",
        "\n",
        "## Intro\n",
        "Short-term synaptic plasticity (or short-term plasticity [STP]) is a phenomenon in which synaptic efficacy changes over time in response to previous presynaptic occurances.\n",
        "\n",
        "Two types of STP have been observed:\n",
        "\n",
        "* **Short-Term Depression** (STD)\n",
        "* **Short-Term Facilitation** (STF)\n",
        "\n",
        "Short-Term Depression is caused by depletion of neurotransmitters at the axon terminal while Short-Term Facilitation is caused by calcium influx into the axon terminal after a spike. This increases the release probablility of neurotransmitters.\n",
        "\n",
        "STP typically occurs on the order of hundereds to thousands of milliseconds and is temporary. Without activity the synapse will quickly return to basline levels.\n",
        "\n",
        "STP may serve as a substrate for processing temporal information. The response of a post-synaptic neuron depends on the history of the presynaptic activity. This information could theoretically be extracted for use. STP can enrich computational studies, allowing networks to produce capabilities difficult to be seen using static connections.\n",
        "\n",
        "## Simulating STP\n",
        "\n",
        "We'll begin our simulations with a single Hodgkin-Huxley neuron connected via standard Exp2Syn synapse. There are no short-term plasticity elements involved yet. The neuron is subjected to 20 Hz of uniform input for 500 ms.\n"
      ]
    },
    {
      "cell_type": "code",
      "source": [
        "!pip install neuron"
      ],
      "metadata": {
        "id": "5wcJRwosZFv4",
        "outputId": "a763aa47-2d56-4da6-b78e-e0508378fd50",
        "colab": {
          "base_uri": "https://localhost:8080/"
        }
      },
      "execution_count": 1,
      "outputs": [
        {
          "output_type": "stream",
          "name": "stdout",
          "text": [
            "Looking in indexes: https://pypi.org/simple, https://us-python.pkg.dev/colab-wheels/public/simple/\n",
            "Requirement already satisfied: neuron in /usr/local/lib/python3.8/dist-packages (8.2.1)\n",
            "Requirement already satisfied: numpy>=1.9.3 in /usr/local/lib/python3.8/dist-packages (from neuron) (1.21.6)\n"
          ]
        }
      ]
    },
    {
      "cell_type": "code",
      "source": [
        "!git clone https://github.com/davidfague/SynapticPlasticity.git\n",
        "%cd SynapticPlasticity"
      ],
      "metadata": {
        "id": "c_FVwcE1Y0w5",
        "outputId": "26b1f861-4235-49d0-843e-0647860ae912",
        "colab": {
          "base_uri": "https://localhost:8080/"
        }
      },
      "execution_count": 2,
      "outputs": [
        {
          "output_type": "stream",
          "name": "stdout",
          "text": [
            "fatal: destination path 'SynapticPlasticity' already exists and is not an empty directory.\n",
            "/content/SynapticPlasticity\n"
          ]
        }
      ]
    },
    {
      "cell_type": "code",
      "source": [
        "# import os\n",
        "# from neuron import h"
      ],
      "metadata": {
        "id": "wBp-uHwYZiwY"
      },
      "execution_count": 3,
      "outputs": []
    },
    {
      "cell_type": "code",
      "source": [
        "# mechanisms_path = 'mechanisms'\n",
        "# h.nrn_load_dll(os.path.join(mechanisms_path,'nrnmech.dll'))"
      ],
      "metadata": {
        "id": "wnd5RCT3ZYfY"
      },
      "execution_count": 4,
      "outputs": []
    },
    {
      "cell_type": "code",
      "source": [
        "# %ls"
      ],
      "metadata": {
        "id": "W8tdBF8hZI95"
      },
      "execution_count": 5,
      "outputs": []
    },
    {
      "cell_type": "code",
      "source": [
        "# %cd "
      ],
      "metadata": {
        "id": "7bm-zlMAZo-f"
      },
      "execution_count": 6,
      "outputs": []
    },
    {
      "cell_type": "code",
      "execution_count": 7,
      "metadata": {
        "id": "SBIvp5SFYwfe",
        "outputId": "ad5d5dce-a74c-4a6f-ed01-2628baf8a8c5",
        "colab": {
          "base_uri": "https://localhost:8080/",
          "height": 340
        }
      },
      "outputs": [
        {
          "output_type": "error",
          "ename": "AttributeError",
          "evalue": "ignored",
          "traceback": [
            "\u001b[0;31m---------------------------------------------------------------------------\u001b[0m",
            "\u001b[0;31mAttributeError\u001b[0m                            Traceback (most recent call last)",
            "\u001b[0;32m<ipython-input-7-ded8b654164f>\u001b[0m in \u001b[0;36m<module>\u001b[0;34m\u001b[0m\n\u001b[1;32m      1\u001b[0m \u001b[0mget_ipython\u001b[0m\u001b[0;34m(\u001b[0m\u001b[0;34m)\u001b[0m\u001b[0;34m.\u001b[0m\u001b[0mrun_line_magic\u001b[0m\u001b[0;34m(\u001b[0m\u001b[0;34m'matplotlib'\u001b[0m\u001b[0;34m,\u001b[0m \u001b[0;34m'inline'\u001b[0m\u001b[0;34m)\u001b[0m\u001b[0;34m\u001b[0m\u001b[0;34m\u001b[0m\u001b[0m\n\u001b[1;32m      2\u001b[0m \u001b[0;32mimport\u001b[0m \u001b[0msim\u001b[0m\u001b[0;34m\u001b[0m\u001b[0;34m\u001b[0m\u001b[0m\n\u001b[0;32m----> 3\u001b[0;31m \u001b[0msim\u001b[0m\u001b[0;34m.\u001b[0m\u001b[0mplot_hh_stsp\u001b[0m\u001b[0;34m(\u001b[0m\u001b[0msyn_d1\u001b[0m\u001b[0;34m=\u001b[0m\u001b[0;36m1\u001b[0m\u001b[0;34m,\u001b[0m\u001b[0msyn_d2\u001b[0m\u001b[0;34m=\u001b[0m\u001b[0;36m1\u001b[0m\u001b[0;34m,\u001b[0m\u001b[0msyn_f\u001b[0m\u001b[0;34m=\u001b[0m\u001b[0;36m1\u001b[0m\u001b[0;34m)\u001b[0m\u001b[0;34m\u001b[0m\u001b[0;34m\u001b[0m\u001b[0m\n\u001b[0m",
            "\u001b[0;32m/content/SynapticPlasticity/sim.py\u001b[0m in \u001b[0;36mplot_hh_stsp\u001b[0;34m(syn_tauD1, syn_d1, syn_tauD2, syn_d2, syn_tauF, syn_f, stim1_start, stim1_frequency, stim1_duration)\u001b[0m\n\u001b[1;32m     33\u001b[0m     \u001b[0msoma\u001b[0m \u001b[0;34m=\u001b[0m \u001b[0mh\u001b[0m\u001b[0;34m.\u001b[0m\u001b[0mSection\u001b[0m\u001b[0;34m(\u001b[0m\u001b[0mname\u001b[0m\u001b[0;34m=\u001b[0m\u001b[0;34m'soma'\u001b[0m\u001b[0;34m)\u001b[0m\u001b[0;34m\u001b[0m\u001b[0;34m\u001b[0m\u001b[0m\n\u001b[1;32m     34\u001b[0m     \u001b[0msoma\u001b[0m\u001b[0;34m.\u001b[0m\u001b[0minsert\u001b[0m\u001b[0;34m(\u001b[0m\u001b[0;34m'hh'\u001b[0m\u001b[0;34m)\u001b[0m\u001b[0;34m\u001b[0m\u001b[0;34m\u001b[0m\u001b[0m\n\u001b[0;32m---> 35\u001b[0;31m     \u001b[0msyn\u001b[0m \u001b[0;34m=\u001b[0m \u001b[0mh\u001b[0m\u001b[0;34m.\u001b[0m\u001b[0mExp2Syn1_STSP\u001b[0m\u001b[0;34m(\u001b[0m\u001b[0;36m0.5\u001b[0m\u001b[0;34m,\u001b[0m \u001b[0msec\u001b[0m\u001b[0;34m=\u001b[0m\u001b[0msoma\u001b[0m\u001b[0;34m)\u001b[0m\u001b[0;34m\u001b[0m\u001b[0;34m\u001b[0m\u001b[0m\n\u001b[0m\u001b[1;32m     36\u001b[0m     \u001b[0msyn\u001b[0m\u001b[0;34m.\u001b[0m\u001b[0me\u001b[0m \u001b[0;34m=\u001b[0m \u001b[0msyn_reversal\u001b[0m\u001b[0;34m\u001b[0m\u001b[0;34m\u001b[0m\u001b[0m\n\u001b[1;32m     37\u001b[0m     \u001b[0msyn\u001b[0m\u001b[0;34m.\u001b[0m\u001b[0mtauD1\u001b[0m \u001b[0;34m=\u001b[0m \u001b[0msyn_tauD1\u001b[0m\u001b[0;34m\u001b[0m\u001b[0;34m\u001b[0m\u001b[0m\n",
            "\u001b[0;31mAttributeError\u001b[0m: 'hoc.HocObject' object has no attribute 'Exp2Syn1_STSP'"
          ]
        }
      ],
      "source": [
        "%matplotlib inline\n",
        "import sim\n",
        "sim.plot_hh_stsp(syn_d1=1,syn_d2=1,syn_f=1)"
      ]
    },
    {
      "cell_type": "markdown",
      "metadata": {
        "id": "eupUOxe6Ywff"
      },
      "source": [
        "### STP Factor\n",
        "\n",
        "For the most part we can leave our current Exp2Syn synapse alone. We'll need to compute an impact factor (facfactor) that will be multiplied by current (i) output equation:\n",
        "\n",
        "```\n",
        "i = g_syn*(voltage - synapse_reversal)*facfactor\n",
        "```\n",
        "\n",
        "Intuitively we realize that both depression and facilitation are dependent on the previous spike time as well as the current state of the system. The above facfactor will need to be a value between 0 and infinity, where anything less than 1 will result in depression and anything above will cause synaptic facilitation. Our solution is based on [Varela et al. (1997)](http://dx.doi.org/10.1523/JNEUROSCI.17-20-07926.1997) and takes the form:\n",
        "\n",
        "\\begin{align}\n",
        "F_1 & = 1 + (F_1 - 1) * e^{(t_0)/\\tau_F} \\\\\n",
        "D_1 & = 1 - (1 - D_1) * e^{(t_0)/\\tau_D} \\\\\n",
        "f & = F_1 * D_1\n",
        "\\end{align}\n",
        "\n",
        "Where ```t0``` is the time since the last spike\n",
        "\n",
        "We can then re-write this as pseudocode for our implementation:\n",
        "\n",
        "```\n",
        "Facilitation  = 1 + (Facilitation-1)* exp(-(current_time - last_synapse_time)/tauFacilitation)\n",
        "Depression = 1 - (1-Depression)*exp(-(current_time - last_synapse_time)/tauDepression)\n",
        "\n",
        "facfactor = Facilitation * Depression\n",
        "```\n",
        "\n",
        "Initially, Facilitation and Depression are set to 1 and 0 respectively, resulting in no effect on synaptic conductance.\n",
        "\n",
        "After the facfactor has been computed we can complete the system by multiplying each Facilitation and Depression variable by an impact factor ```f``` and ```d```. These will determine the strength/effect on the next synapse.\n",
        "\n",
        "```\n",
        "Facilitation = Facilitation * f\n",
        "Depression = Depression * d\n",
        "```\n",
        "\n",
        "Facilitation or Depression can then be bound to an upper value through the following statement\n",
        "\n",
        "```\n",
        "if(Facilitation  > 30){\n",
        "    F = 30\n",
        "  }\n",
        "```\n",
        "\n",
        "Our completed model can be seen below. Here, there are two depression factors (D1 and D2), one is a slow depression and the other is fast acting but more powerful.\n"
      ]
    },
    {
      "cell_type": "code",
      "execution_count": null,
      "metadata": {
        "id": "yEyL5FAaYwfg"
      },
      "outputs": [],
      "source": [
        "%matplotlib inline\n",
        "import sim\n",
        "sim.plot_hh_stsp()"
      ]
    },
    {
      "cell_type": "markdown",
      "metadata": {
        "id": "RHUKONUHYwfg"
      },
      "source": [
        "## Interactive Example\n",
        "\n",
        "To experiment with the effects of STP, run the following code and modify the widget sliders below. See how changing the depression and facilitation factors and their associated tau impact the cell's membrane potential.\n"
      ]
    },
    {
      "cell_type": "code",
      "execution_count": null,
      "metadata": {
        "id": "kNEyL-ySYwfg"
      },
      "outputs": [],
      "source": [
        "%matplotlib inline\n",
        "import sim\n",
        "from ipywidgets import interactive\n",
        "\n",
        "interactive(sim.plot_hh_stsp, \n",
        "                 syn_tauD1=(1,1000,10), syn_d1=(0,1,.05), \n",
        "                 syn_tauD2=(1,1000,10), syn_d2=(0,1,.05), \n",
        "                 syn_tauF=(1,1000),syn_f=(1,2,.05),\n",
        "                 stim1_start= (0,1000,50), stim1_frequency=(1,50,1), stim1_duration=(0,1000,50))"
      ]
    },
    {
      "cell_type": "markdown",
      "metadata": {
        "id": "9gKXZWwgYwfg"
      },
      "source": [
        "## BMTK Model\n",
        "\n",
        "This implementation has also been modeled using BMTK, see the ```bmtk_model``` folder for more."
      ]
    },
    {
      "cell_type": "code",
      "execution_count": null,
      "metadata": {
        "id": "YiyRq-YBYwfg"
      },
      "outputs": [],
      "source": []
    }
  ],
  "metadata": {
    "kernelspec": {
      "display_name": "Python 3",
      "language": "python",
      "name": "python3"
    },
    "language_info": {
      "codemirror_mode": {
        "name": "ipython",
        "version": 3
      },
      "file_extension": ".py",
      "mimetype": "text/x-python",
      "name": "python",
      "nbconvert_exporter": "python",
      "pygments_lexer": "ipython3",
      "version": "3.6.8"
    },
    "colab": {
      "provenance": []
    }
  },
  "nbformat": 4,
  "nbformat_minor": 0
}